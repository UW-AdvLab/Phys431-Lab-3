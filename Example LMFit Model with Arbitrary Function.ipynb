{
 "cells": [
  {
   "cell_type": "markdown",
   "metadata": {},
   "source": [
    "# Example of LMFit Model Custom Function\n",
    "\n",
    "This example re-does a fit from the electron diffraction experiment to show how to use LMFit to optimize a nonlinear curve fit to an arbitrary function."
   ]
  },
  {
   "cell_type": "code",
   "execution_count": 1,
   "metadata": {},
   "outputs": [],
   "source": [
    "# Run this cell with Shift-Enter, and wait until the asterisk changes to a number, i.e., [*] becomes [1]\n",
    "import numpy as np\n",
    "import scipy.constants as const\n",
    "import uncertainties as unc\n",
    "import matplotlib.pyplot as plt\n",
    "import pandas as pd\n",
    "%matplotlib inline"
   ]
  },
  {
   "cell_type": "markdown",
   "metadata": {},
   "source": [
    "## Import some data\n",
    "\n",
    "Importing the graphite diffraction data that gives diffraction spot diameters as a function of accelerating voltage ."
   ]
  },
  {
   "cell_type": "code",
   "execution_count": 2,
   "metadata": {},
   "outputs": [
    {
     "data": {
      "text/html": [
       "<div>\n",
       "<style scoped>\n",
       "    .dataframe tbody tr th:only-of-type {\n",
       "        vertical-align: middle;\n",
       "    }\n",
       "\n",
       "    .dataframe tbody tr th {\n",
       "        vertical-align: top;\n",
       "    }\n",
       "\n",
       "    .dataframe thead th {\n",
       "        text-align: right;\n",
       "    }\n",
       "</style>\n",
       "<table border=\"1\" class=\"dataframe\">\n",
       "  <thead>\n",
       "    <tr style=\"text-align: right;\">\n",
       "      <th></th>\n",
       "      <th>AnodeV (kV)</th>\n",
       "      <th>D_10 (mm)</th>\n",
       "      <th>Std_10 (mm)</th>\n",
       "      <th>D_11 (mm)</th>\n",
       "      <th>Std_11 (mm)</th>\n",
       "    </tr>\n",
       "  </thead>\n",
       "  <tbody>\n",
       "    <tr>\n",
       "      <th>0</th>\n",
       "      <td>4.432</td>\n",
       "      <td>29.501</td>\n",
       "      <td>0.356</td>\n",
       "      <td>51.106</td>\n",
       "      <td>0.403</td>\n",
       "    </tr>\n",
       "    <tr>\n",
       "      <th>1</th>\n",
       "      <td>4.904</td>\n",
       "      <td>28.074</td>\n",
       "      <td>0.126</td>\n",
       "      <td>49.542</td>\n",
       "      <td>0.420</td>\n",
       "    </tr>\n",
       "    <tr>\n",
       "      <th>2</th>\n",
       "      <td>5.382</td>\n",
       "      <td>26.879</td>\n",
       "      <td>0.421</td>\n",
       "      <td>45.922</td>\n",
       "      <td>0.153</td>\n",
       "    </tr>\n",
       "    <tr>\n",
       "      <th>3</th>\n",
       "      <td>5.852</td>\n",
       "      <td>25.640</td>\n",
       "      <td>0.339</td>\n",
       "      <td>44.117</td>\n",
       "      <td>0.153</td>\n",
       "    </tr>\n",
       "    <tr>\n",
       "      <th>4</th>\n",
       "      <td>6.323</td>\n",
       "      <td>24.963</td>\n",
       "      <td>0.392</td>\n",
       "      <td>42.318</td>\n",
       "      <td>0.593</td>\n",
       "    </tr>\n",
       "    <tr>\n",
       "      <th>5</th>\n",
       "      <td>6.808</td>\n",
       "      <td>24.120</td>\n",
       "      <td>0.375</td>\n",
       "      <td>40.730</td>\n",
       "      <td>0.666</td>\n",
       "    </tr>\n",
       "    <tr>\n",
       "      <th>6</th>\n",
       "      <td>7.295</td>\n",
       "      <td>22.974</td>\n",
       "      <td>0.195</td>\n",
       "      <td>39.790</td>\n",
       "      <td>0.201</td>\n",
       "    </tr>\n",
       "    <tr>\n",
       "      <th>7</th>\n",
       "      <td>7.830</td>\n",
       "      <td>22.102</td>\n",
       "      <td>0.187</td>\n",
       "      <td>38.005</td>\n",
       "      <td>0.175</td>\n",
       "    </tr>\n",
       "    <tr>\n",
       "      <th>8</th>\n",
       "      <td>8.314</td>\n",
       "      <td>21.913</td>\n",
       "      <td>0.208</td>\n",
       "      <td>36.887</td>\n",
       "      <td>0.468</td>\n",
       "    </tr>\n",
       "    <tr>\n",
       "      <th>9</th>\n",
       "      <td>8.798</td>\n",
       "      <td>21.045</td>\n",
       "      <td>0.094</td>\n",
       "      <td>36.361</td>\n",
       "      <td>0.183</td>\n",
       "    </tr>\n",
       "  </tbody>\n",
       "</table>\n",
       "</div>"
      ],
      "text/plain": [
       "   AnodeV (kV)  D_10 (mm)  Std_10 (mm)  D_11 (mm)  Std_11 (mm)\n",
       "0        4.432     29.501        0.356     51.106        0.403\n",
       "1        4.904     28.074        0.126     49.542        0.420\n",
       "2        5.382     26.879        0.421     45.922        0.153\n",
       "3        5.852     25.640        0.339     44.117        0.153\n",
       "4        6.323     24.963        0.392     42.318        0.593\n",
       "5        6.808     24.120        0.375     40.730        0.666\n",
       "6        7.295     22.974        0.195     39.790        0.201\n",
       "7        7.830     22.102        0.187     38.005        0.175\n",
       "8        8.314     21.913        0.208     36.887        0.468\n",
       "9        8.798     21.045        0.094     36.361        0.183"
      ]
     },
     "execution_count": 2,
     "metadata": {},
     "output_type": "execute_result"
    }
   ],
   "source": [
    "gr_data = pd.read_csv('graphite_data.csv')\n",
    "gr_data"
   ]
  },
  {
   "cell_type": "markdown",
   "metadata": {},
   "source": [
    "## A nonlinear fit function\n",
    "\n",
    "From theory, expect $\\sin\\theta$ to equal $\\lambda/\\sqrt{3}a$ for the {10} reflections and $\\lambda/a$ for the {11} reflections, where \n",
    "$$\\lambda = \\frac{hc}{\\sqrt{2mc^2eV}} = \\left(\\frac{151.4}{V}\\right)^{1/2}\\;\\text{angstrom}$$ \n",
    "when $V$ is in volts.\n",
    "\n",
    "So, if we plot $\\sin\\theta$ versus $V$ we should be able to fit the function \n",
    "$$\\sin\\theta(V;a) = f(V;a) = \\sqrt{\\frac{151.4}{V}}\\left(\\frac{1}{\\sqrt{3}a}\\right)\\;\\text{or}\\;\\sqrt{\\frac{151.4}{V}}\\left(\\frac{1}{a}\\right)$$\n",
    "to the data (depending on which reflections we use) and obtain the lattice constant $a$ directly. \n",
    "\n",
    "### First step: convert the diameters to $\\sin\\theta_{hk}$"
   ]
  },
  {
   "cell_type": "code",
   "execution_count": 3,
   "metadata": {},
   "outputs": [],
   "source": [
    "## Use uncertainties to make arrays so that transformed data have uncertainties\n",
    "\n",
    "from uncertainties import unumpy\n",
    "uD_10 = unumpy.uarray(gr_data['D_10 (mm)'],gr_data['Std_10 (mm)'])\n",
    "uD_11 = unumpy.uarray(gr_data['D_11 (mm)'],gr_data['Std_11 (mm)'])\n",
    "\n",
    "## Target to screen distance, in mm\n",
    "L = 180.6 # mm\n",
    "\n",
    "utan_2theta_10 = (uD_10/2)/L\n",
    "usin_theta_10 = unumpy.sin(unumpy.arctan(utan_2theta_10)/2.0)\n",
    "# print(['{:.2uP}'.format(angle) for angle in usin_theta_10])\n",
    "\n",
    "utan_2theta_11 = (uD_11/2)/L\n",
    "usin_theta_11 = unumpy.sin(unumpy.arctan(utan_2theta_11)/2.0)\n",
    "# print(['{:.2uP}'.format(angle) for angle in usin_theta_11])\n"
   ]
  },
  {
   "cell_type": "code",
   "execution_count": 8,
   "metadata": {},
   "outputs": [
    {
     "data": {
      "image/png": "[encoded data removed]",
      "text/plain": [
       "<Figure size 648x468 with 1 Axes>"
      ]
     },
     "metadata": {
      "needs_background": "light"
     },
     "output_type": "display_data"
    }
   ],
   "source": [
    "plt.figure(figsize=(9,6.5))\n",
    "plt.grid()\n",
    "plt.title('Graphite Electron Diffraction Data')\n",
    "plt.ylabel(r'$\\sin\\theta_{hk}$')\n",
    "plt.xlabel(r'Acceleration voltage $V$ (kV)')\n",
    "plt.errorbar(gr_data['AnodeV (kV)'],unumpy.nominal_values(usin_theta_10),\n",
    "             yerr=unumpy.std_devs(usin_theta_10),fmt='o',label='{10} Reflections')\n",
    "plt.errorbar(gr_data['AnodeV (kV)'],unumpy.nominal_values(usin_theta_11),\n",
    "             yerr=unumpy.std_devs(usin_theta_11),fmt='o',label='{11} Reflections')\n",
    "plt.legend();"
   ]
  },
  {
   "cell_type": "markdown",
   "metadata": {},
   "source": [
    "## Define the fit function\n",
    "\n",
    "Note how the fit function is defined: the independent variable *must* be labeled `x`.  The adjustable parameters can be called what you want.  You may also pass some extra parameters to the function to stay fixed via `**kwargs` "
   ]
  },
  {
   "cell_type": "code",
   "execution_count": 14,
   "metadata": {},
   "outputs": [],
   "source": [
    "mc2 = const.value(u'electron mass energy equivalent in MeV')*1.0e6 # eV\n",
    "hc = const.value(u'Planck constant in eV s')*const.speed_of_light*1.0e10 # eV-A\n",
    "a_gr = 2.46 # angstrom\n",
    "\n",
    "V_to_lambda_const = hc*hc/(2.0*mc2)\n",
    "\n",
    "def sin_vs_V(x, lattice_const, spacing=1.0):\n",
    "    sin_theta = np.sqrt(V_to_lambda_const/x)/(lattice_const*spacing)\n",
    "    return sin_theta"
   ]
  },
  {
   "cell_type": "markdown",
   "metadata": {},
   "source": [
    "## Set up data and weighting arrays\n",
    "\n",
    "Separating the y-axis data into nominal values and their error bars.  Using the error bars to weight the fits."
   ]
  },
  {
   "cell_type": "code",
   "execution_count": 15,
   "metadata": {},
   "outputs": [],
   "source": [
    "V = gr_data['AnodeV (kV)']*1000 # accelerating voltage in volts\n",
    "\n",
    "sin_data_10 = unumpy.nominal_values(usin_theta_10)\n",
    "sin_err_10 = unumpy.std_devs(usin_theta_10)\n",
    "\n",
    "sin_data_11 = unumpy.nominal_values(usin_theta_11)\n",
    "sin_err_11 = unumpy.std_devs(usin_theta_11)"
   ]
  },
  {
   "cell_type": "markdown",
   "metadata": {},
   "source": [
    "## Build the Models\n",
    "\n",
    "Note that two different models are being declared, with different values of the `spacing` parameter, which is set for the different reflections.\n",
    "\n",
    "### Note that the fit result gives the lattice constant directly."
   ]
  },
  {
   "cell_type": "code",
   "execution_count": null,
   "metadata": {},
   "outputs": [],
   "source": [
    "## Key statement to pull Model class in.\n",
    "from lmfit import Model\n",
    "\n",
    "## First argument is the function name.  The last argument is \n",
    "#  passed directly to the fitting function and is not adjusted during thefit\n",
    "\n",
    "model_10 = Model(sin_vs_V, param_names=['lattice_const'],spacing=np.sqrt(3))\n",
    "model_11 = Model(sin_vs_V, param_names=['lattice_const'],spacing=1.0)\n",
    "\n",
    "## Fit the model for {10} reflections\n",
    "result_10 = model_10.fit(sin_data_10, x=V, lattice_const=1.0, weights=1/sin_err_10)\n",
    "print(result_10.fit_report())\n",
    "result_10.plot()\n",
    "\n",
    "## Fit the model for {11} reflections\n",
    "result_11 = model_11.fit(sin_data_11, x=V, lattice_const=1.0, weights=1/sin_err_10)\n",
    "print(result_11.fit_report())\n",
    "result_11.plot()"
   ]
  },
  {
   "cell_type": "code",
   "execution_count": null,
   "metadata": {},
   "outputs": [],
   "source": []
  }
 ],
 "metadata": {
  "kernelspec": {
   "display_name": "Python 3",
   "language": "python",
   "name": "python3"
  },
  "language_info": {
   "codemirror_mode": {
    "name": "ipython",
    "version": 3
   },
   "file_extension": ".py",
   "mimetype": "text/x-python",
   "name": "python",
   "nbconvert_exporter": "python",
   "pygments_lexer": "ipython3",
   "version": "3.7.3"
  }
 },
 "nbformat": 4,
 "nbformat_minor": 2
}
